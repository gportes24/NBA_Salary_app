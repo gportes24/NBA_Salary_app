{
 "cells": [
  {
   "cell_type": "code",
   "execution_count": 43,
   "metadata": {},
   "outputs": [],
   "source": [
    "import pandas as pd\n",
    "from patsy import dmatrices\n",
    "import numpy as np\n",
    "import statsmodels.api as sm\n",
    "import matplotlib.pyplot as plt\n",
    "nba = pd.read_csv(\"final_table.csv\", index_col=0)\n",
    "nba.fillna(0, inplace=True)\n",
    "import seaborn as sns"
   ]
  },
  {
   "cell_type": "code",
   "execution_count": 2,
   "metadata": {},
   "outputs": [
    {
     "data": {
      "text/html": [
       "<div>\n",
       "<style scoped>\n",
       "    .dataframe tbody tr th:only-of-type {\n",
       "        vertical-align: middle;\n",
       "    }\n",
       "\n",
       "    .dataframe tbody tr th {\n",
       "        vertical-align: top;\n",
       "    }\n",
       "\n",
       "    .dataframe thead th {\n",
       "        text-align: right;\n",
       "    }\n",
       "</style>\n",
       "<table border=\"1\" class=\"dataframe\">\n",
       "  <thead>\n",
       "    <tr style=\"text-align: right;\">\n",
       "      <th></th>\n",
       "      <th>Player</th>\n",
       "      <th>tm</th>\n",
       "      <th>pos</th>\n",
       "      <th>yr2019_20</th>\n",
       "      <th>avg_cost_per_pt</th>\n",
       "      <th>Age</th>\n",
       "      <th>PER</th>\n",
       "      <th>pts</th>\n",
       "      <th>g</th>\n",
       "      <th>mp</th>\n",
       "      <th>ast</th>\n",
       "      <th>stl</th>\n",
       "      <th>blk</th>\n",
       "    </tr>\n",
       "  </thead>\n",
       "  <tbody>\n",
       "    <tr>\n",
       "      <th>612</th>\n",
       "      <td>Luguentz Dort</td>\n",
       "      <td>OKC</td>\n",
       "      <td>SG</td>\n",
       "      <td>155647.0</td>\n",
       "      <td>637.90</td>\n",
       "      <td>20.0</td>\n",
       "      <td>7.6</td>\n",
       "      <td>244.0</td>\n",
       "      <td>36.0</td>\n",
       "      <td>820.0</td>\n",
       "      <td>27.0</td>\n",
       "      <td>31.0</td>\n",
       "      <td>4.0</td>\n",
       "    </tr>\n",
       "    <tr>\n",
       "      <th>587</th>\n",
       "      <td>Ky Bowman</td>\n",
       "      <td>GSW</td>\n",
       "      <td>PG</td>\n",
       "      <td>350189.0</td>\n",
       "      <td>1045.34</td>\n",
       "      <td>22.0</td>\n",
       "      <td>9.1</td>\n",
       "      <td>335.0</td>\n",
       "      <td>45.0</td>\n",
       "      <td>1015.0</td>\n",
       "      <td>131.0</td>\n",
       "      <td>44.0</td>\n",
       "      <td>10.0</td>\n",
       "    </tr>\n",
       "    <tr>\n",
       "      <th>545</th>\n",
       "      <td>Eric Paschall</td>\n",
       "      <td>GSW</td>\n",
       "      <td>PF</td>\n",
       "      <td>898310.0</td>\n",
       "      <td>1073.25</td>\n",
       "      <td>23.0</td>\n",
       "      <td>14.5</td>\n",
       "      <td>837.0</td>\n",
       "      <td>60.0</td>\n",
       "      <td>1654.0</td>\n",
       "      <td>127.0</td>\n",
       "      <td>32.0</td>\n",
       "      <td>13.0</td>\n",
       "    </tr>\n",
       "    <tr>\n",
       "      <th>606</th>\n",
       "      <td>PJ Dozier</td>\n",
       "      <td>DEN</td>\n",
       "      <td>PG</td>\n",
       "      <td>183115.0</td>\n",
       "      <td>1089.97</td>\n",
       "      <td>23.0</td>\n",
       "      <td>11.6</td>\n",
       "      <td>168.0</td>\n",
       "      <td>29.0</td>\n",
       "      <td>412.0</td>\n",
       "      <td>63.0</td>\n",
       "      <td>14.0</td>\n",
       "      <td>6.0</td>\n",
       "    </tr>\n",
       "    <tr>\n",
       "      <th>530</th>\n",
       "      <td>Devonte' Graham</td>\n",
       "      <td>CHO</td>\n",
       "      <td>PG</td>\n",
       "      <td>1416852.0</td>\n",
       "      <td>1237.43</td>\n",
       "      <td>24.0</td>\n",
       "      <td>15.8</td>\n",
       "      <td>1145.0</td>\n",
       "      <td>63.0</td>\n",
       "      <td>2211.0</td>\n",
       "      <td>471.0</td>\n",
       "      <td>62.0</td>\n",
       "      <td>15.0</td>\n",
       "    </tr>\n",
       "    <tr>\n",
       "      <th>...</th>\n",
       "      <td>...</td>\n",
       "      <td>...</td>\n",
       "      <td>...</td>\n",
       "      <td>...</td>\n",
       "      <td>...</td>\n",
       "      <td>...</td>\n",
       "      <td>...</td>\n",
       "      <td>...</td>\n",
       "      <td>...</td>\n",
       "      <td>...</td>\n",
       "      <td>...</td>\n",
       "      <td>...</td>\n",
       "      <td>...</td>\n",
       "    </tr>\n",
       "    <tr>\n",
       "      <th>635</th>\n",
       "      <td>Sir'Dominic Pointer</td>\n",
       "      <td>0</td>\n",
       "      <td>0</td>\n",
       "      <td>50752.0</td>\n",
       "      <td>0.00</td>\n",
       "      <td>0.0</td>\n",
       "      <td>0.0</td>\n",
       "      <td>0.0</td>\n",
       "      <td>0.0</td>\n",
       "      <td>0.0</td>\n",
       "      <td>0.0</td>\n",
       "      <td>0.0</td>\n",
       "      <td>0.0</td>\n",
       "    </tr>\n",
       "    <tr>\n",
       "      <th>640</th>\n",
       "      <td>Isaiah Taylor</td>\n",
       "      <td>0</td>\n",
       "      <td>0</td>\n",
       "      <td>50000.0</td>\n",
       "      <td>0.00</td>\n",
       "      <td>0.0</td>\n",
       "      <td>0.0</td>\n",
       "      <td>0.0</td>\n",
       "      <td>0.0</td>\n",
       "      <td>0.0</td>\n",
       "      <td>0.0</td>\n",
       "      <td>0.0</td>\n",
       "      <td>0.0</td>\n",
       "    </tr>\n",
       "    <tr>\n",
       "      <th>641</th>\n",
       "      <td>Tyler Lydon</td>\n",
       "      <td>0</td>\n",
       "      <td>0</td>\n",
       "      <td>50000.0</td>\n",
       "      <td>0.00</td>\n",
       "      <td>0.0</td>\n",
       "      <td>0.0</td>\n",
       "      <td>0.0</td>\n",
       "      <td>0.0</td>\n",
       "      <td>0.0</td>\n",
       "      <td>0.0</td>\n",
       "      <td>0.0</td>\n",
       "      <td>0.0</td>\n",
       "    </tr>\n",
       "    <tr>\n",
       "      <th>642</th>\n",
       "      <td>Hollis Thompson</td>\n",
       "      <td>0</td>\n",
       "      <td>0</td>\n",
       "      <td>50000.0</td>\n",
       "      <td>0.00</td>\n",
       "      <td>0.0</td>\n",
       "      <td>0.0</td>\n",
       "      <td>0.0</td>\n",
       "      <td>0.0</td>\n",
       "      <td>0.0</td>\n",
       "      <td>0.0</td>\n",
       "      <td>0.0</td>\n",
       "      <td>0.0</td>\n",
       "    </tr>\n",
       "    <tr>\n",
       "      <th>643</th>\n",
       "      <td>Tyler Ulis</td>\n",
       "      <td>0</td>\n",
       "      <td>0</td>\n",
       "      <td>50000.0</td>\n",
       "      <td>0.00</td>\n",
       "      <td>0.0</td>\n",
       "      <td>0.0</td>\n",
       "      <td>0.0</td>\n",
       "      <td>0.0</td>\n",
       "      <td>0.0</td>\n",
       "      <td>0.0</td>\n",
       "      <td>0.0</td>\n",
       "      <td>0.0</td>\n",
       "    </tr>\n",
       "  </tbody>\n",
       "</table>\n",
       "<p>526 rows × 13 columns</p>\n",
       "</div>"
      ],
      "text/plain": [
       "                  Player   tm pos  yr2019_20  avg_cost_per_pt   Age   PER  \\\n",
       "612        Luguentz Dort  OKC  SG   155647.0           637.90  20.0   7.6   \n",
       "587            Ky Bowman  GSW  PG   350189.0          1045.34  22.0   9.1   \n",
       "545        Eric Paschall  GSW  PF   898310.0          1073.25  23.0  14.5   \n",
       "606            PJ Dozier  DEN  PG   183115.0          1089.97  23.0  11.6   \n",
       "530      Devonte' Graham  CHO  PG  1416852.0          1237.43  24.0  15.8   \n",
       "..                   ...  ...  ..        ...              ...   ...   ...   \n",
       "635  Sir'Dominic Pointer    0   0    50752.0             0.00   0.0   0.0   \n",
       "640        Isaiah Taylor    0   0    50000.0             0.00   0.0   0.0   \n",
       "641          Tyler Lydon    0   0    50000.0             0.00   0.0   0.0   \n",
       "642      Hollis Thompson    0   0    50000.0             0.00   0.0   0.0   \n",
       "643           Tyler Ulis    0   0    50000.0             0.00   0.0   0.0   \n",
       "\n",
       "        pts     g      mp    ast   stl   blk  \n",
       "612   244.0  36.0   820.0   27.0  31.0   4.0  \n",
       "587   335.0  45.0  1015.0  131.0  44.0  10.0  \n",
       "545   837.0  60.0  1654.0  127.0  32.0  13.0  \n",
       "606   168.0  29.0   412.0   63.0  14.0   6.0  \n",
       "530  1145.0  63.0  2211.0  471.0  62.0  15.0  \n",
       "..      ...   ...     ...    ...   ...   ...  \n",
       "635     0.0   0.0     0.0    0.0   0.0   0.0  \n",
       "640     0.0   0.0     0.0    0.0   0.0   0.0  \n",
       "641     0.0   0.0     0.0    0.0   0.0   0.0  \n",
       "642     0.0   0.0     0.0    0.0   0.0   0.0  \n",
       "643     0.0   0.0     0.0    0.0   0.0   0.0  \n",
       "\n",
       "[526 rows x 13 columns]"
      ]
     },
     "execution_count": 2,
     "metadata": {},
     "output_type": "execute_result"
    }
   ],
   "source": [
    "nba"
   ]
  },
  {
   "cell_type": "code",
   "execution_count": 3,
   "metadata": {},
   "outputs": [
    {
     "data": {
      "text/html": [
       "<div>\n",
       "<style scoped>\n",
       "    .dataframe tbody tr th:only-of-type {\n",
       "        vertical-align: middle;\n",
       "    }\n",
       "\n",
       "    .dataframe tbody tr th {\n",
       "        vertical-align: top;\n",
       "    }\n",
       "\n",
       "    .dataframe thead th {\n",
       "        text-align: right;\n",
       "    }\n",
       "</style>\n",
       "<table border=\"1\" class=\"dataframe\">\n",
       "  <thead>\n",
       "    <tr style=\"text-align: right;\">\n",
       "      <th></th>\n",
       "      <th>Player</th>\n",
       "      <th>tm</th>\n",
       "      <th>pos</th>\n",
       "      <th>yr2019_20</th>\n",
       "      <th>avg_cost_per_pt</th>\n",
       "      <th>Age</th>\n",
       "      <th>PER</th>\n",
       "      <th>pts</th>\n",
       "      <th>g</th>\n",
       "      <th>mp</th>\n",
       "      <th>ast</th>\n",
       "      <th>stl</th>\n",
       "      <th>blk</th>\n",
       "    </tr>\n",
       "  </thead>\n",
       "  <tbody>\n",
       "    <tr>\n",
       "      <th>637</th>\n",
       "      <td>Paul Watson</td>\n",
       "      <td>TOR</td>\n",
       "      <td>SF</td>\n",
       "      <td>50752.0</td>\n",
       "      <td>1637.16</td>\n",
       "      <td>25.0</td>\n",
       "      <td>-7.1</td>\n",
       "      <td>31.0</td>\n",
       "      <td>8.0</td>\n",
       "      <td>70.0</td>\n",
       "      <td>5.0</td>\n",
       "      <td>3.0</td>\n",
       "      <td>1.0</td>\n",
       "    </tr>\n",
       "    <tr>\n",
       "      <th>603</th>\n",
       "      <td>Cameron Payne</td>\n",
       "      <td>PHO</td>\n",
       "      <td>PG</td>\n",
       "      <td>196288.0</td>\n",
       "      <td>2256.18</td>\n",
       "      <td>25.0</td>\n",
       "      <td>15.7</td>\n",
       "      <td>87.0</td>\n",
       "      <td>8.0</td>\n",
       "      <td>183.0</td>\n",
       "      <td>24.0</td>\n",
       "      <td>8.0</td>\n",
       "      <td>2.0</td>\n",
       "    </tr>\n",
       "    <tr>\n",
       "      <th>614</th>\n",
       "      <td>Johnathan Williams</td>\n",
       "      <td>WAS</td>\n",
       "      <td>C</td>\n",
       "      <td>106181.0</td>\n",
       "      <td>2359.58</td>\n",
       "      <td>24.0</td>\n",
       "      <td>14.0</td>\n",
       "      <td>45.0</td>\n",
       "      <td>15.0</td>\n",
       "      <td>180.0</td>\n",
       "      <td>8.0</td>\n",
       "      <td>1.0</td>\n",
       "      <td>8.0</td>\n",
       "    </tr>\n",
       "    <tr>\n",
       "      <th>604</th>\n",
       "      <td>Mychal Mulder</td>\n",
       "      <td>GSW</td>\n",
       "      <td>SG</td>\n",
       "      <td>187782.0</td>\n",
       "      <td>2438.73</td>\n",
       "      <td>25.0</td>\n",
       "      <td>7.8</td>\n",
       "      <td>77.0</td>\n",
       "      <td>7.0</td>\n",
       "      <td>204.0</td>\n",
       "      <td>8.0</td>\n",
       "      <td>2.0</td>\n",
       "      <td>1.0</td>\n",
       "    </tr>\n",
       "    <tr>\n",
       "      <th>620</th>\n",
       "      <td>Donta Hall</td>\n",
       "      <td>BRK</td>\n",
       "      <td>PF</td>\n",
       "      <td>101504.0</td>\n",
       "      <td>3075.88</td>\n",
       "      <td>22.0</td>\n",
       "      <td>17.2</td>\n",
       "      <td>33.0</td>\n",
       "      <td>5.0</td>\n",
       "      <td>85.0</td>\n",
       "      <td>2.0</td>\n",
       "      <td>2.0</td>\n",
       "      <td>5.0</td>\n",
       "    </tr>\n",
       "    <tr>\n",
       "      <th>...</th>\n",
       "      <td>...</td>\n",
       "      <td>...</td>\n",
       "      <td>...</td>\n",
       "      <td>...</td>\n",
       "      <td>...</td>\n",
       "      <td>...</td>\n",
       "      <td>...</td>\n",
       "      <td>...</td>\n",
       "      <td>...</td>\n",
       "      <td>...</td>\n",
       "      <td>...</td>\n",
       "      <td>...</td>\n",
       "      <td>...</td>\n",
       "    </tr>\n",
       "    <tr>\n",
       "      <th>635</th>\n",
       "      <td>Sir'Dominic Pointer</td>\n",
       "      <td>0</td>\n",
       "      <td>0</td>\n",
       "      <td>50752.0</td>\n",
       "      <td>0.00</td>\n",
       "      <td>0.0</td>\n",
       "      <td>0.0</td>\n",
       "      <td>0.0</td>\n",
       "      <td>0.0</td>\n",
       "      <td>0.0</td>\n",
       "      <td>0.0</td>\n",
       "      <td>0.0</td>\n",
       "      <td>0.0</td>\n",
       "    </tr>\n",
       "    <tr>\n",
       "      <th>640</th>\n",
       "      <td>Isaiah Taylor</td>\n",
       "      <td>0</td>\n",
       "      <td>0</td>\n",
       "      <td>50000.0</td>\n",
       "      <td>0.00</td>\n",
       "      <td>0.0</td>\n",
       "      <td>0.0</td>\n",
       "      <td>0.0</td>\n",
       "      <td>0.0</td>\n",
       "      <td>0.0</td>\n",
       "      <td>0.0</td>\n",
       "      <td>0.0</td>\n",
       "      <td>0.0</td>\n",
       "    </tr>\n",
       "    <tr>\n",
       "      <th>641</th>\n",
       "      <td>Tyler Lydon</td>\n",
       "      <td>0</td>\n",
       "      <td>0</td>\n",
       "      <td>50000.0</td>\n",
       "      <td>0.00</td>\n",
       "      <td>0.0</td>\n",
       "      <td>0.0</td>\n",
       "      <td>0.0</td>\n",
       "      <td>0.0</td>\n",
       "      <td>0.0</td>\n",
       "      <td>0.0</td>\n",
       "      <td>0.0</td>\n",
       "      <td>0.0</td>\n",
       "    </tr>\n",
       "    <tr>\n",
       "      <th>642</th>\n",
       "      <td>Hollis Thompson</td>\n",
       "      <td>0</td>\n",
       "      <td>0</td>\n",
       "      <td>50000.0</td>\n",
       "      <td>0.00</td>\n",
       "      <td>0.0</td>\n",
       "      <td>0.0</td>\n",
       "      <td>0.0</td>\n",
       "      <td>0.0</td>\n",
       "      <td>0.0</td>\n",
       "      <td>0.0</td>\n",
       "      <td>0.0</td>\n",
       "      <td>0.0</td>\n",
       "    </tr>\n",
       "    <tr>\n",
       "      <th>643</th>\n",
       "      <td>Tyler Ulis</td>\n",
       "      <td>0</td>\n",
       "      <td>0</td>\n",
       "      <td>50000.0</td>\n",
       "      <td>0.00</td>\n",
       "      <td>0.0</td>\n",
       "      <td>0.0</td>\n",
       "      <td>0.0</td>\n",
       "      <td>0.0</td>\n",
       "      <td>0.0</td>\n",
       "      <td>0.0</td>\n",
       "      <td>0.0</td>\n",
       "      <td>0.0</td>\n",
       "    </tr>\n",
       "  </tbody>\n",
       "</table>\n",
       "<p>181 rows × 13 columns</p>\n",
       "</div>"
      ],
      "text/plain": [
       "                  Player   tm pos  yr2019_20  avg_cost_per_pt   Age   PER  \\\n",
       "637          Paul Watson  TOR  SF    50752.0          1637.16  25.0  -7.1   \n",
       "603        Cameron Payne  PHO  PG   196288.0          2256.18  25.0  15.7   \n",
       "614   Johnathan Williams  WAS   C   106181.0          2359.58  24.0  14.0   \n",
       "604        Mychal Mulder  GSW  SG   187782.0          2438.73  25.0   7.8   \n",
       "620           Donta Hall  BRK  PF   101504.0          3075.88  22.0  17.2   \n",
       "..                   ...  ...  ..        ...              ...   ...   ...   \n",
       "635  Sir'Dominic Pointer    0   0    50752.0             0.00   0.0   0.0   \n",
       "640        Isaiah Taylor    0   0    50000.0             0.00   0.0   0.0   \n",
       "641          Tyler Lydon    0   0    50000.0             0.00   0.0   0.0   \n",
       "642      Hollis Thompson    0   0    50000.0             0.00   0.0   0.0   \n",
       "643           Tyler Ulis    0   0    50000.0             0.00   0.0   0.0   \n",
       "\n",
       "      pts     g     mp   ast  stl  blk  \n",
       "637  31.0   8.0   70.0   5.0  3.0  1.0  \n",
       "603  87.0   8.0  183.0  24.0  8.0  2.0  \n",
       "614  45.0  15.0  180.0   8.0  1.0  8.0  \n",
       "604  77.0   7.0  204.0   8.0  2.0  1.0  \n",
       "620  33.0   5.0   85.0   2.0  2.0  5.0  \n",
       "..    ...   ...    ...   ...  ...  ...  \n",
       "635   0.0   0.0    0.0   0.0  0.0  0.0  \n",
       "640   0.0   0.0    0.0   0.0  0.0  0.0  \n",
       "641   0.0   0.0    0.0   0.0  0.0  0.0  \n",
       "642   0.0   0.0    0.0   0.0  0.0  0.0  \n",
       "643   0.0   0.0    0.0   0.0  0.0  0.0  \n",
       "\n",
       "[181 rows x 13 columns]"
      ]
     },
     "execution_count": 3,
     "metadata": {},
     "output_type": "execute_result"
    }
   ],
   "source": [
    "# create database for g-league players and player who sat\n",
    "# out and did not play all year \n",
    "games= nba[ nba['pts'] <= 100.0 ]\n",
    "games"
   ]
  },
  {
   "cell_type": "code",
   "execution_count": 4,
   "metadata": {},
   "outputs": [
    {
     "name": "stdout",
     "output_type": "stream",
     "text": [
      "            Player   tm pos  yr2019_20  avg_cost_per_pt   Age  PER    pts  \\\n",
      "384  Darius Bazley  OKC  PF  2284800.0           6680.7  19.0  9.6  342.0   \n",
      "\n",
      "        g      mp   ast   stl   blk  \n",
      "384  61.0  1130.0  41.0  23.0  41.0  \n"
     ]
    }
   ],
   "source": [
    "print(nba[nba['Player']==\"Darius Bazley\"])"
   ]
  },
  {
   "cell_type": "code",
   "execution_count": 5,
   "metadata": {},
   "outputs": [
    {
     "data": {
      "text/html": [
       "<div>\n",
       "<style scoped>\n",
       "    .dataframe tbody tr th:only-of-type {\n",
       "        vertical-align: middle;\n",
       "    }\n",
       "\n",
       "    .dataframe tbody tr th {\n",
       "        vertical-align: top;\n",
       "    }\n",
       "\n",
       "    .dataframe thead th {\n",
       "        text-align: right;\n",
       "    }\n",
       "</style>\n",
       "<table border=\"1\" class=\"dataframe\">\n",
       "  <thead>\n",
       "    <tr style=\"text-align: right;\">\n",
       "      <th></th>\n",
       "      <th>Player</th>\n",
       "      <th>tm</th>\n",
       "      <th>pos</th>\n",
       "      <th>yr2019_20</th>\n",
       "      <th>avg_cost_per_pt</th>\n",
       "      <th>Age</th>\n",
       "      <th>PER</th>\n",
       "      <th>pts</th>\n",
       "      <th>g</th>\n",
       "      <th>mp</th>\n",
       "      <th>ast</th>\n",
       "      <th>stl</th>\n",
       "      <th>blk</th>\n",
       "    </tr>\n",
       "  </thead>\n",
       "  <tbody>\n",
       "    <tr>\n",
       "      <th>612</th>\n",
       "      <td>Luguentz Dort</td>\n",
       "      <td>OKC</td>\n",
       "      <td>SG</td>\n",
       "      <td>155647.0</td>\n",
       "      <td>637.90</td>\n",
       "      <td>20.0</td>\n",
       "      <td>7.6</td>\n",
       "      <td>244.0</td>\n",
       "      <td>36.0</td>\n",
       "      <td>820.0</td>\n",
       "      <td>27.0</td>\n",
       "      <td>31.0</td>\n",
       "      <td>4.0</td>\n",
       "    </tr>\n",
       "    <tr>\n",
       "      <th>587</th>\n",
       "      <td>Ky Bowman</td>\n",
       "      <td>GSW</td>\n",
       "      <td>PG</td>\n",
       "      <td>350189.0</td>\n",
       "      <td>1045.34</td>\n",
       "      <td>22.0</td>\n",
       "      <td>9.1</td>\n",
       "      <td>335.0</td>\n",
       "      <td>45.0</td>\n",
       "      <td>1015.0</td>\n",
       "      <td>131.0</td>\n",
       "      <td>44.0</td>\n",
       "      <td>10.0</td>\n",
       "    </tr>\n",
       "    <tr>\n",
       "      <th>545</th>\n",
       "      <td>Eric Paschall</td>\n",
       "      <td>GSW</td>\n",
       "      <td>PF</td>\n",
       "      <td>898310.0</td>\n",
       "      <td>1073.25</td>\n",
       "      <td>23.0</td>\n",
       "      <td>14.5</td>\n",
       "      <td>837.0</td>\n",
       "      <td>60.0</td>\n",
       "      <td>1654.0</td>\n",
       "      <td>127.0</td>\n",
       "      <td>32.0</td>\n",
       "      <td>13.0</td>\n",
       "    </tr>\n",
       "    <tr>\n",
       "      <th>606</th>\n",
       "      <td>PJ Dozier</td>\n",
       "      <td>DEN</td>\n",
       "      <td>PG</td>\n",
       "      <td>183115.0</td>\n",
       "      <td>1089.97</td>\n",
       "      <td>23.0</td>\n",
       "      <td>11.6</td>\n",
       "      <td>168.0</td>\n",
       "      <td>29.0</td>\n",
       "      <td>412.0</td>\n",
       "      <td>63.0</td>\n",
       "      <td>14.0</td>\n",
       "      <td>6.0</td>\n",
       "    </tr>\n",
       "    <tr>\n",
       "      <th>530</th>\n",
       "      <td>Devonte' Graham</td>\n",
       "      <td>CHO</td>\n",
       "      <td>PG</td>\n",
       "      <td>1416852.0</td>\n",
       "      <td>1237.43</td>\n",
       "      <td>24.0</td>\n",
       "      <td>15.8</td>\n",
       "      <td>1145.0</td>\n",
       "      <td>63.0</td>\n",
       "      <td>2211.0</td>\n",
       "      <td>471.0</td>\n",
       "      <td>62.0</td>\n",
       "      <td>15.0</td>\n",
       "    </tr>\n",
       "    <tr>\n",
       "      <th>...</th>\n",
       "      <td>...</td>\n",
       "      <td>...</td>\n",
       "      <td>...</td>\n",
       "      <td>...</td>\n",
       "      <td>...</td>\n",
       "      <td>...</td>\n",
       "      <td>...</td>\n",
       "      <td>...</td>\n",
       "      <td>...</td>\n",
       "      <td>...</td>\n",
       "      <td>...</td>\n",
       "      <td>...</td>\n",
       "      <td>...</td>\n",
       "    </tr>\n",
       "    <tr>\n",
       "      <th>90</th>\n",
       "      <td>Gorgui Dieng</td>\n",
       "      <td>MEM</td>\n",
       "      <td>C</td>\n",
       "      <td>16229213.0</td>\n",
       "      <td>131944.82</td>\n",
       "      <td>30.0</td>\n",
       "      <td>17.8</td>\n",
       "      <td>123.0</td>\n",
       "      <td>17.0</td>\n",
       "      <td>318.0</td>\n",
       "      <td>15.0</td>\n",
       "      <td>14.0</td>\n",
       "      <td>17.0</td>\n",
       "    </tr>\n",
       "    <tr>\n",
       "      <th>95</th>\n",
       "      <td>Brandon Knight</td>\n",
       "      <td>DET</td>\n",
       "      <td>PG</td>\n",
       "      <td>15643750.0</td>\n",
       "      <td>150420.67</td>\n",
       "      <td>28.0</td>\n",
       "      <td>5.4</td>\n",
       "      <td>104.0</td>\n",
       "      <td>9.0</td>\n",
       "      <td>221.0</td>\n",
       "      <td>38.0</td>\n",
       "      <td>5.0</td>\n",
       "      <td>1.0</td>\n",
       "    </tr>\n",
       "    <tr>\n",
       "      <th>34</th>\n",
       "      <td>Otto Porter</td>\n",
       "      <td>CHI</td>\n",
       "      <td>SF</td>\n",
       "      <td>27250576.0</td>\n",
       "      <td>163177.10</td>\n",
       "      <td>26.0</td>\n",
       "      <td>15.8</td>\n",
       "      <td>167.0</td>\n",
       "      <td>14.0</td>\n",
       "      <td>331.0</td>\n",
       "      <td>25.0</td>\n",
       "      <td>15.0</td>\n",
       "      <td>6.0</td>\n",
       "    </tr>\n",
       "    <tr>\n",
       "      <th>40</th>\n",
       "      <td>Andre Drummond</td>\n",
       "      <td>CLE</td>\n",
       "      <td>C</td>\n",
       "      <td>27093019.0</td>\n",
       "      <td>193521.56</td>\n",
       "      <td>26.0</td>\n",
       "      <td>22.1</td>\n",
       "      <td>140.0</td>\n",
       "      <td>8.0</td>\n",
       "      <td>225.0</td>\n",
       "      <td>14.0</td>\n",
       "      <td>12.0</td>\n",
       "      <td>11.0</td>\n",
       "    </tr>\n",
       "    <tr>\n",
       "      <th>0</th>\n",
       "      <td>Stephen Curry</td>\n",
       "      <td>GSW</td>\n",
       "      <td>PG</td>\n",
       "      <td>40231758.0</td>\n",
       "      <td>386843.83</td>\n",
       "      <td>31.0</td>\n",
       "      <td>21.7</td>\n",
       "      <td>104.0</td>\n",
       "      <td>5.0</td>\n",
       "      <td>139.0</td>\n",
       "      <td>33.0</td>\n",
       "      <td>5.0</td>\n",
       "      <td>2.0</td>\n",
       "    </tr>\n",
       "  </tbody>\n",
       "</table>\n",
       "<p>345 rows × 13 columns</p>\n",
       "</div>"
      ],
      "text/plain": [
       "              Player   tm pos   yr2019_20  avg_cost_per_pt   Age   PER  \\\n",
       "612    Luguentz Dort  OKC  SG    155647.0           637.90  20.0   7.6   \n",
       "587        Ky Bowman  GSW  PG    350189.0          1045.34  22.0   9.1   \n",
       "545    Eric Paschall  GSW  PF    898310.0          1073.25  23.0  14.5   \n",
       "606        PJ Dozier  DEN  PG    183115.0          1089.97  23.0  11.6   \n",
       "530  Devonte' Graham  CHO  PG   1416852.0          1237.43  24.0  15.8   \n",
       "..               ...  ...  ..         ...              ...   ...   ...   \n",
       "90      Gorgui Dieng  MEM   C  16229213.0        131944.82  30.0  17.8   \n",
       "95    Brandon Knight  DET  PG  15643750.0        150420.67  28.0   5.4   \n",
       "34       Otto Porter  CHI  SF  27250576.0        163177.10  26.0  15.8   \n",
       "40    Andre Drummond  CLE   C  27093019.0        193521.56  26.0  22.1   \n",
       "0      Stephen Curry  GSW  PG  40231758.0        386843.83  31.0  21.7   \n",
       "\n",
       "        pts     g      mp    ast   stl   blk  \n",
       "612   244.0  36.0   820.0   27.0  31.0   4.0  \n",
       "587   335.0  45.0  1015.0  131.0  44.0  10.0  \n",
       "545   837.0  60.0  1654.0  127.0  32.0  13.0  \n",
       "606   168.0  29.0   412.0   63.0  14.0   6.0  \n",
       "530  1145.0  63.0  2211.0  471.0  62.0  15.0  \n",
       "..      ...   ...     ...    ...   ...   ...  \n",
       "90    123.0  17.0   318.0   15.0  14.0  17.0  \n",
       "95    104.0   9.0   221.0   38.0   5.0   1.0  \n",
       "34    167.0  14.0   331.0   25.0  15.0   6.0  \n",
       "40    140.0   8.0   225.0   14.0  12.0  11.0  \n",
       "0     104.0   5.0   139.0   33.0   5.0   2.0  \n",
       "\n",
       "[345 rows x 13 columns]"
      ]
     },
     "execution_count": 5,
     "metadata": {},
     "output_type": "execute_result"
    }
   ],
   "source": [
    "# remove players that did not play any games due to injury and G-league/developmental league players \n",
    "# based on nba salary scale and not to account those during predictions\n",
    "index_names = nba[ nba['pts'] <= 100.0 ].index\n",
    "# drop these row indexes \n",
    "# from dataFrame \n",
    "nba.drop(index_names, inplace = True) \n",
    "nba"
   ]
  },
  {
   "cell_type": "code",
   "execution_count": 7,
   "metadata": {},
   "outputs": [
    {
     "data": {
      "text/plain": [
       "Index(['Player', 'tm', 'pos', 'yr2019_20', 'avg_cost_per_pt', 'Age', 'PER',\n",
       "       'pts', 'g', 'mp', 'ast', 'stl', 'blk'],\n",
       "      dtype='object')"
      ]
     },
     "execution_count": 7,
     "metadata": {},
     "output_type": "execute_result"
    }
   ],
   "source": [
    "nba.columns"
   ]
  },
  {
   "cell_type": "code",
   "execution_count": 51,
   "metadata": {},
   "outputs": [
    {
     "data": {
      "image/png": "[encoded data removed]",
      "text/plain": [
       "<Figure size 432x288 with 2 Axes>"
      ]
     },
     "metadata": {
      "needs_background": "light"
     },
     "output_type": "display_data"
    }
   ],
   "source": [
    "nba_corr = pd.DataFrame(nba[['yr2019_20', 'Age','PER','pts', 'g', 'mp', 'ast', 'stl', 'blk']])\n",
    "corrMatrix = nba_corr.corr()\n",
    "sns.heatmap(corrMatrix, annot=True)\n",
    "plt.show()"
   ]
  },
  {
   "cell_type": "code",
   "execution_count": 8,
   "metadata": {},
   "outputs": [
    {
     "name": "stdout",
     "output_type": "stream",
     "text": [
      "training data set length=345\n",
      "testing data set length=345\n"
     ]
    }
   ],
   "source": [
    "#mask = np.random.rand(len(nba))<0.8\n",
    "# mask = np.random.rand(len(nba))<0.1\n",
    "# nba_train =nba[mask]\n",
    "# nba_test=nba[~mask]\n",
    "nba_train= nba\n",
    "nba_test=nba\n",
    "print ('training data set length='+str(len(nba_train)))\n",
    "print(\"testing data set length=\"+str(len(nba_test)))"
   ]
  },
  {
   "cell_type": "code",
   "execution_count": 9,
   "metadata": {},
   "outputs": [],
   "source": [
    "# setup the regression in patsy notation. telling patsy that\n",
    "#\"yr2019_20\"/salary is our dependent variable and it\n",
    "# depends on the regression variables: age, per, pts, g, mp, ast, stl\n",
    "# and blocks\n",
    "expr = \"\"\"yr2019_20~Age+PER+pts+g+mp+ast+stl+blk\"\"\""
   ]
  },
  {
   "cell_type": "code",
   "execution_count": 10,
   "metadata": {},
   "outputs": [],
   "source": [
    "# set up X and y\n",
    "y_train,X_train= dmatrices(expr,nba_train,return_type='dataframe')\n",
    "y_test, X_test = dmatrices(expr,nba_test, return_type='dataframe')"
   ]
  },
  {
   "cell_type": "code",
   "execution_count": 11,
   "metadata": {},
   "outputs": [],
   "source": [
    "# using the statsmodel GLM class train the poisson regression model on the training set\n",
    "poisson_training_results =sm.GLM(y_train,X_train, family=sm.families.Poisson()).fit()"
   ]
  },
  {
   "cell_type": "code",
   "execution_count": 19,
   "metadata": {},
   "outputs": [
    {
     "name": "stdout",
     "output_type": "stream",
     "text": [
      "                 Generalized Linear Model Regression Results                  \n",
      "==============================================================================\n",
      "Dep. Variable:              yr2019_20   No. Observations:                  345\n",
      "Model:                            GLM   Df Residuals:                      336\n",
      "Model Family:                 Poisson   Df Model:                            8\n",
      "Link Function:                    log   Scale:                          1.0000\n",
      "Method:                          IRLS   Log-Likelihood:            -5.5367e+08\n",
      "Date:                Sun, 13 Dec 2020   Deviance:                   1.1073e+09\n",
      "Time:                        18:02:59   Pearson chi2:                 1.11e+09\n",
      "No. Iterations:                     7                                         \n",
      "Covariance Type:            nonrobust                                         \n",
      "==============================================================================\n",
      "                 coef    std err          z      P>|z|      [0.025      0.975]\n",
      "------------------------------------------------------------------------------\n",
      "Intercept     12.9748      0.000   7.61e+04      0.000      12.975      12.975\n",
      "Age            0.0928   4.46e-06   2.08e+04      0.000       0.093       0.093\n",
      "PER            0.0628    6.4e-06   9810.222      0.000       0.063       0.063\n",
      "pts           -0.0001   1.11e-07  -1272.289      0.000      -0.000      -0.000\n",
      "g             -0.0445   2.26e-06  -1.97e+04      0.000      -0.044      -0.044\n",
      "mp             0.0015   1.03e-07   1.41e+04      0.000       0.001       0.001\n",
      "ast           -0.0001   2.26e-07   -471.314      0.000      -0.000      -0.000\n",
      "stl           -0.0011    1.1e-06   -975.741      0.000      -0.001      -0.001\n",
      "blk            0.0004   7.86e-07    462.811      0.000       0.000       0.000\n",
      "==============================================================================\n"
     ]
    }
   ],
   "source": [
    "poisson =poisson_training_results.summary()\n",
    "print(poisson_training_results.summary())\n",
    "#poisson2=np.array(poisson)\n"
   ]
  },
  {
   "cell_type": "code",
   "execution_count": 54,
   "metadata": {},
   "outputs": [
    {
     "name": "stdout",
     "output_type": "stream",
     "text": [
      "1110000000.0\n"
     ]
    }
   ],
   "source": [
    "print(float(1.11e+09))\n"
   ]
  },
  {
   "cell_type": "code",
   "execution_count": null,
   "metadata": {},
   "outputs": [],
   "source": [
    "poisson_predictions=poisson_training_results.get_prediction(X_test)"
   ]
  },
  {
   "cell_type": "code",
   "execution_count": null,
   "metadata": {},
   "outputs": [],
   "source": [
    "prediction_summary_frame=poisson_predictions.summary_frame()"
   ]
  },
  {
   "cell_type": "code",
   "execution_count": null,
   "metadata": {},
   "outputs": [],
   "source": [
    "prediction_summary_frame.astype(\"int64\")"
   ]
  },
  {
   "cell_type": "code",
   "execution_count": null,
   "metadata": {},
   "outputs": [],
   "source": [
    "predicted_salary = prediction_summary_frame['mean'].astype(\"int64\")\n",
    "predicted_salary=predicted_salary\n",
    "#predicted_counts=predicted_counts.style.format(\"${:,.2f}\")\n",
    "predicted_salary\n"
   ]
  },
  {
   "cell_type": "code",
   "execution_count": null,
   "metadata": {},
   "outputs": [],
   "source": [
    "actual_salary= y_test['yr2019_20']\n",
    "actual_salary.sample(5)"
   ]
  },
  {
   "cell_type": "code",
   "execution_count": null,
   "metadata": {},
   "outputs": [],
   "source": [
    "fig=plt.figure()\n",
    "fig.suptitle('predicted versus actual salaries')\n",
    "predicted, =plt.plot(X_test.index, predicted_salary,'go-',\n",
    "                 label=\"Predicted Salary\")\n",
    "actual, =plt.plot(X_test.index, actual_salary,'ro-',\n",
    "                 label=\"actual Salary\")\n",
    "plt.legend(handles=[predicted, actual])"
   ]
  },
  {
   "cell_type": "code",
   "execution_count": null,
   "metadata": {},
   "outputs": [],
   "source": [
    "nba['predicted_salary'] = predicted_salary\n",
    "nba"
   ]
  },
  {
   "cell_type": "code",
   "execution_count": null,
   "metadata": {},
   "outputs": [],
   "source": [
    "nba_salaries=pd.concat([nba, games], ignore_index=True, sort=False)\n",
    "nba_salaries"
   ]
  },
  {
   "cell_type": "code",
   "execution_count": null,
   "metadata": {},
   "outputs": [],
   "source": [
    "nba_salaries['predicted_salary'] = nba_salaries['predicted_salary'].fillna(0)\n",
    "nba_salaries.sample(10)"
   ]
  },
  {
   "cell_type": "code",
   "execution_count": null,
   "metadata": {},
   "outputs": [],
   "source": [
    "def salaries(row):\n",
    "    if row['predicted_salary']==0.0:\n",
    "        return row['yr2019_20']\n",
    "    else:\n",
    "        return row['predicted_salary']\n",
    "nba_salaries['predicted_salary']=nba_salaries.apply(lambda row: salaries(row),axis=1)\n",
    "nba_salaries "
   ]
  },
  {
   "cell_type": "code",
   "execution_count": null,
   "metadata": {},
   "outputs": [],
   "source": [
    "nba_salaries= nba_salaries[[\"Player\", \"tm\", \"pos\", \"yr2019_20\",\"predicted_salary\", \"Age\",\"PER\", \"pts\", \"g\", \"mp\", \"ast\", \"stl\", \"blk\"]]\n",
    "nba_salaries['yr2019_20']=nba_salaries['yr2019_20'].map(\"${:,.2f}\".format)\n",
    "nba_salaries['predicted_salary']=nba_salaries['predicted_salary'].map(\"${:,.2f}\".format)\n",
    "\n",
    "#nba_salaries[['yr2019_20', 'predicted_salary']].apply(lambda x: map(lambda x:'${:,.2f}'.format(x),x),axis=1)\n",
    "nba_salaries.sample(20)"
   ]
  },
  {
   "cell_type": "code",
   "execution_count": null,
   "metadata": {},
   "outputs": [],
   "source": [
    "nba_salaries"
   ]
  },
  {
   "cell_type": "code",
   "execution_count": null,
   "metadata": {},
   "outputs": [],
   "source": [
    "nba_salaries.to_csv(\"poisson_regression.csv\")"
   ]
  },
  {
   "cell_type": "code",
   "execution_count": null,
   "metadata": {},
   "outputs": [],
   "source": [
    "nba_salaries.to_json(\"salaries_prediction.json\", orient=\"records\",)"
   ]
  },
  {
   "cell_type": "code",
   "execution_count": null,
   "metadata": {},
   "outputs": [],
   "source": [
    "teams=pd.read_json(\"salaries_prediction.json\")\n",
    "teams\n"
   ]
  },
  {
   "cell_type": "code",
   "execution_count": null,
   "metadata": {},
   "outputs": [],
   "source": [
    "import re\n",
    "import urllib\n",
    "from time import sleep"
   ]
  },
  {
   "cell_type": "code",
   "execution_count": null,
   "metadata": {},
   "outputs": [],
   "source": [
    "def build_team_urls():\n",
    "    # Open the espn teams webpage and extract the names of each roster available.\n",
    "    f = urllib.request.urlopen('http://www.espn.com/nba/teams')\n",
    "    teams_source = f.read().decode('utf-8')\n",
    "    teams = dict(re.findall(\"www\\.espn\\.com/nba/team/_/name/(\\w+)/(.+?)\\\",\", teams_source))\n",
    "    # Using the names of the rosters, create the urls of each roster\n",
    "    roster_urls = []\n",
    "    for key in teams.keys():\n",
    "        # each roster webpage follows this general pattern.\n",
    "        roster_urls.append('http://www.espn.com/nba/team/roster/_/name/' + key + '/' + teams[key])\n",
    "        teams[key] = str(teams[key])\n",
    "    return dict(zip(teams.values(), roster_urls))"
   ]
  },
  {
   "cell_type": "code",
   "execution_count": null,
   "metadata": {},
   "outputs": [],
   "source": [
    "rosters = build_team_urls()\n",
    "rosters"
   ]
  },
  {
   "cell_type": "code",
   "execution_count": null,
   "metadata": {
    "scrolled": true
   },
   "outputs": [],
   "source": [
    "url = \"https://www.espn.com/nba/team/roster/_/name/gs/golden-state-warriors\"\n",
    "f = urllib.request.urlopen(url)\n",
    "roster_source = f.read().decode('utf-8')\n",
    "roster_source"
   ]
  },
  {
   "cell_type": "code",
   "execution_count": null,
   "metadata": {},
   "outputs": [],
   "source": [
    "player_regex = ('\\\"(\\w+\\s\\w+)\\\",\\\"href\\\"\\:\\\"https\\://www.espn.com/nba/player/.*?\\\",(.*?)\\}')\n",
    "#player_regex=('\\{\\\"name\\\"\\:\\\"(\\w+\\s\\w+)\\\",\\\"href\\\"\\:\\\"http\\://www\\.espn\\.com/nba/player/.*?\\\",(.*?)\\}')\n",
    "#player_regex\n",
    "player_info = re.findall(player_regex, roster_source)\n",
    "player_info[0:4]"
   ]
  },
  {
   "cell_type": "code",
   "execution_count": null,
   "metadata": {},
   "outputs": [],
   "source": [
    "import json\n",
    "steph = json.loads(\"{\"+player_info[2][1]+\"}\")\n",
    "steph"
   ]
  },
  {
   "cell_type": "code",
   "execution_count": null,
   "metadata": {},
   "outputs": [],
   "source": [
    "def get_player_info(roster_url):\n",
    "    f = urllib.request.urlopen(roster_url)\n",
    "    roster_source = f.read().decode('utf-8')\n",
    "    sleep(0.5)\n",
    "    player_regex = ('\\\"(\\w+\\s\\w+)\\\",\\\"href\\\"\\:\\\"https\\://www.espn.com/nba/player/.*?\\\",(.*?)\\}')\n",
    "    player_info = re.findall(player_regex, roster_source)\n",
    "    player_dict = dict()\n",
    "    for player in player_info:\n",
    "        player_dict[player[0]] = json.loads(\"{\"+player[1]+\"}\")\n",
    "    return(player_dict)\n",
    "#get_player_info(\"http://www.espn.com/nba/team/roster/_/name/sa/san-antonio-spurs\")"
   ]
  },
  {
   "cell_type": "code",
   "execution_count": null,
   "metadata": {},
   "outputs": [],
   "source": [
    "all_players = dict()\n",
    "for team in rosters.keys():\n",
    "    print(\"Gathering player info for team: \" + team)\n",
    "    all_players[team] = get_player_info(rosters[team])"
   ]
  },
  {
   "cell_type": "code",
   "execution_count": null,
   "metadata": {},
   "outputs": [],
   "source": [
    "all_players.keys()"
   ]
  },
  {
   "cell_type": "code",
   "execution_count": null,
   "metadata": {},
   "outputs": [],
   "source": [
    "all_players['brooklyn-nets'].keys()"
   ]
  },
  {
   "cell_type": "code",
   "execution_count": null,
   "metadata": {},
   "outputs": [],
   "source": [
    "all_players_df = pd.DataFrame()\n",
    "for team in all_players.keys():\n",
    "    team_df = pd.DataFrame.from_dict(all_players[team], orient = \"index\")\n",
    "    team_df['team'] = team\n",
    "    all_players_df = all_players_df.append(team_df)"
   ]
  },
  {
   "cell_type": "code",
   "execution_count": null,
   "metadata": {},
   "outputs": [],
   "source": [
    "all_players_df.columns.values[0] = 'Player'"
   ]
  },
  {
   "cell_type": "code",
   "execution_count": null,
   "metadata": {},
   "outputs": [],
   "source": [
    "player_pic = pd.DataFrame.from_dict(all_players_df)"
   ]
  },
  {
   "cell_type": "code",
   "execution_count": null,
   "metadata": {},
   "outputs": [],
   "source": [
    "player_pic"
   ]
  },
  {
   "cell_type": "code",
   "execution_count": null,
   "metadata": {},
   "outputs": [],
   "source": [
    "player_pic.columns"
   ]
  },
  {
   "cell_type": "code",
   "execution_count": null,
   "metadata": {},
   "outputs": [],
   "source": [
    "player_pic= player_pic[[\"lastName\", \"headshot\", \"position\", \"college\",]]\n",
    "plaer_pic= player_pic.rename(columns={\"lastName\": \"Player\" }, inplace = True)\n",
    "player_pic"
   ]
  },
  {
   "cell_type": "code",
   "execution_count": null,
   "metadata": {},
   "outputs": [],
   "source": [
    "with pd.option_context('display.max_colwidth', 100):\n",
    "    print (player_pic)"
   ]
  },
  {
   "cell_type": "code",
   "execution_count": null,
   "metadata": {},
   "outputs": [],
   "source": [
    "player_pic.to_json(\"player_pic.json\")"
   ]
  },
  {
   "cell_type": "code",
   "execution_count": null,
   "metadata": {},
   "outputs": [],
   "source": [
    "prediction_profile = pd.merge(nba_salaries, player_pic, how= \"left\", on=[\"Player\"])"
   ]
  },
  {
   "cell_type": "code",
   "execution_count": null,
   "metadata": {},
   "outputs": [],
   "source": [
    "prediction_profile "
   ]
  },
  {
   "cell_type": "code",
   "execution_count": null,
   "metadata": {},
   "outputs": [],
   "source": [
    "prediction_profile=prediction_profile.fillna(0)\n",
    "prediction_profile"
   ]
  },
  {
   "cell_type": "code",
   "execution_count": null,
   "metadata": {},
   "outputs": [],
   "source": [
    "#https://en.wikipedia.org/wiki/Kobe_Bryant#/media/File:Kobe_Bryant_2015.jpg\n",
    "def photos(row):\n",
    "    if row['headshot']==0:\n",
    "        return \"https://a.espncdn.com/combiner/i?img=/i/headshots/nba/players/full/110.png\"\n",
    "    else:\n",
    "        return row['headshot']\n",
    "prediction_profile['headshot']=prediction_profile.apply(lambda row: photos(row),axis=1)\n",
    "prediction_profile "
   ]
  },
  {
   "cell_type": "code",
   "execution_count": null,
   "metadata": {},
   "outputs": [],
   "source": [
    "prediction_profile.to_json(\"salaries_prediction.json\", orient=\"records\",)"
   ]
  },
  {
   "cell_type": "code",
   "execution_count": null,
   "metadata": {},
   "outputs": [],
   "source": []
  }
 ],
 "metadata": {
  "kernelspec": {
   "display_name": "Python 3",
   "language": "python",
   "name": "python3"
  },
  "language_info": {
   "codemirror_mode": {
    "name": "ipython",
    "version": 3
   },
   "file_extension": ".py",
   "mimetype": "text/x-python",
   "name": "python",
   "nbconvert_exporter": "python",
   "pygments_lexer": "ipython3",
   "version": "3.8.2"
  }
 },
 "nbformat": 4,
 "nbformat_minor": 4
}
